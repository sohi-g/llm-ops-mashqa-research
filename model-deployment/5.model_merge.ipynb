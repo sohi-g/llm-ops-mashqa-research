{
 "cells": [
  {
   "cell_type": "code",
   "execution_count": 1,
   "metadata": {},
   "outputs": [],
   "source": [
    "from transformers import AutoModelForCausalLM, AutoTokenizer\n",
    "from peft import PeftModel\n",
    "import torch"
   ]
  },
  {
   "cell_type": "code",
   "execution_count": 2,
   "metadata": {},
   "outputs": [],
   "source": [
    "from transformers.pipelines import pipeline"
   ]
  },
  {
   "cell_type": "code",
   "execution_count": 3,
   "metadata": {},
   "outputs": [],
   "source": [
    "pretrained_model = \"mistralai/Mistral-7B-Instruct-v0.1\"\n",
    "adapter_path = \"mlops-ft\""
   ]
  },
  {
   "cell_type": "code",
   "execution_count": 4,
   "metadata": {},
   "outputs": [
    {
     "data": {
      "application/vnd.jupyter.widget-view+json": {
       "model_id": "30147cc7fe434f06a938cdbd100e32ce",
       "version_major": 2,
       "version_minor": 0
      },
      "text/plain": [
       "tokenizer_config.json:   0%|          | 0.00/1.47k [00:00<?, ?B/s]"
      ]
     },
     "metadata": {},
     "output_type": "display_data"
    },
    {
     "data": {
      "application/vnd.jupyter.widget-view+json": {
       "model_id": "d28636df3ba9430dae02606788b08ff0",
       "version_major": 2,
       "version_minor": 0
      },
      "text/plain": [
       "tokenizer.model:   0%|          | 0.00/493k [00:00<?, ?B/s]"
      ]
     },
     "metadata": {},
     "output_type": "display_data"
    },
    {
     "data": {
      "application/vnd.jupyter.widget-view+json": {
       "model_id": "322cb7a69ef942ee8b4b64b9ac3c62e9",
       "version_major": 2,
       "version_minor": 0
      },
      "text/plain": [
       "tokenizer.json:   0%|          | 0.00/1.80M [00:00<?, ?B/s]"
      ]
     },
     "metadata": {},
     "output_type": "display_data"
    },
    {
     "data": {
      "application/vnd.jupyter.widget-view+json": {
       "model_id": "7d79057d330e48f38f9da71edcdd75ab",
       "version_major": 2,
       "version_minor": 0
      },
      "text/plain": [
       "special_tokens_map.json:   0%|          | 0.00/72.0 [00:00<?, ?B/s]"
      ]
     },
     "metadata": {},
     "output_type": "display_data"
    }
   ],
   "source": [
    "tokenizer = AutoTokenizer.from_pretrained(\n",
    "    pretrained_model_name_or_path=pretrained_model)\n",
    "tokenizer.pad_token = tokenizer.eos_token"
   ]
  },
  {
   "cell_type": "code",
   "execution_count": 5,
   "metadata": {},
   "outputs": [
    {
     "data": {
      "application/vnd.jupyter.widget-view+json": {
       "model_id": "f2a96f5ec5704f3599b032eef69aac3a",
       "version_major": 2,
       "version_minor": 0
      },
      "text/plain": [
       "config.json:   0%|          | 0.00/571 [00:00<?, ?B/s]"
      ]
     },
     "metadata": {},
     "output_type": "display_data"
    },
    {
     "data": {
      "application/vnd.jupyter.widget-view+json": {
       "model_id": "e60628adaa604711af162048baa8863d",
       "version_major": 2,
       "version_minor": 0
      },
      "text/plain": [
       "pytorch_model.bin.index.json:   0%|          | 0.00/23.9k [00:00<?, ?B/s]"
      ]
     },
     "metadata": {},
     "output_type": "display_data"
    },
    {
     "data": {
      "application/vnd.jupyter.widget-view+json": {
       "model_id": "a6fd2463d2f1451d9635b6cdb26293b5",
       "version_major": 2,
       "version_minor": 0
      },
      "text/plain": [
       "Downloading shards:   0%|          | 0/2 [00:00<?, ?it/s]"
      ]
     },
     "metadata": {},
     "output_type": "display_data"
    },
    {
     "data": {
      "application/vnd.jupyter.widget-view+json": {
       "model_id": "52d00c3c350542168c5a3060bdfb4375",
       "version_major": 2,
       "version_minor": 0
      },
      "text/plain": [
       "pytorch_model-00001-of-00002.bin:   0%|          | 0.00/9.94G [00:00<?, ?B/s]"
      ]
     },
     "metadata": {},
     "output_type": "display_data"
    },
    {
     "data": {
      "application/vnd.jupyter.widget-view+json": {
       "model_id": "7f4cd7db60b248f4863cac3718be0d67",
       "version_major": 2,
       "version_minor": 0
      },
      "text/plain": [
       "pytorch_model-00002-of-00002.bin:   0%|          | 0.00/5.06G [00:00<?, ?B/s]"
      ]
     },
     "metadata": {},
     "output_type": "display_data"
    },
    {
     "data": {
      "application/vnd.jupyter.widget-view+json": {
       "model_id": "1b87b30412964f3d81863ce5dfbc381f",
       "version_major": 2,
       "version_minor": 0
      },
      "text/plain": [
       "Loading checkpoint shards:   0%|          | 0/2 [00:00<?, ?it/s]"
      ]
     },
     "metadata": {},
     "output_type": "display_data"
    },
    {
     "data": {
      "application/vnd.jupyter.widget-view+json": {
       "model_id": "83317a4886b448b98a9ddcfe6101b148",
       "version_major": 2,
       "version_minor": 0
      },
      "text/plain": [
       "generation_config.json:   0%|          | 0.00/116 [00:00<?, ?B/s]"
      ]
     },
     "metadata": {},
     "output_type": "display_data"
    }
   ],
   "source": [
    "base_model = AutoModelForCausalLM.from_pretrained(\n",
    "    pretrained_model,\n",
    "    return_dict=True,\n",
    "    torch_dtype=torch.float16,\n",
    "    device_map=\"auto\",\n",
    ")"
   ]
  },
  {
   "cell_type": "code",
   "execution_count": 6,
   "metadata": {},
   "outputs": [],
   "source": [
    "model = PeftModel.from_pretrained(base_model, adapter_path)\n",
    "model = model.merge_and_unload()"
   ]
  },
  {
   "cell_type": "code",
   "execution_count": 7,
   "metadata": {},
   "outputs": [
    {
     "data": {
      "text/plain": [
       "('mlops-ft-merged/tokenizer_config.json',\n",
       " 'mlops-ft-merged/special_tokens_map.json',\n",
       " 'mlops-ft-merged/tokenizer.model',\n",
       " 'mlops-ft-merged/added_tokens.json',\n",
       " 'mlops-ft-merged/tokenizer.json')"
      ]
     },
     "execution_count": 7,
     "metadata": {},
     "output_type": "execute_result"
    }
   ],
   "source": [
    "save_to = 'mlops-ft-merged'\n",
    "model.save_pretrained(save_to, safe_serialization=True, max_shard_size='4GB')\n",
    "tokenizer.save_pretrained(save_to)"
   ]
  },
  {
   "cell_type": "code",
   "execution_count": 8,
   "metadata": {},
   "outputs": [],
   "source": [
    "llm_pipeline = pipeline(\n",
    "    model=model,  # Specify the model for text generation\n",
    "    tokenizer=tokenizer,  # Specify the tokenizer for text processing\n",
    "    task='text-generation',  # Define the task as text generation\n",
    "    max_new_tokens=1024,  # Limit the maximum number of generated tokens to 256\n",
    "    temperature=0.1,  # Set the temperature parameter for text generation\n",
    "    top_k=10,  # Set the top-k parameter for text generation\n",
    "    do_sample=True,  # Allow sampling from the model's output\n",
    "    num_return_sequences=1,  # Return a single generated sequence\n",
    "    eos_token_id=tokenizer.eos_token_id,  # Specify the end-of-sequence token ID\n",
    "    pad_token_id=tokenizer.pad_token_id  # Specify the padding token ID\n",
    ")"
   ]
  },
  {
   "cell_type": "code",
   "execution_count": 9,
   "metadata": {},
   "outputs": [],
   "source": [
    "\n",
    "def get_prompt(question):\n",
    "    prompt = f\"\"\"[INST]Act as a Multiple Answer Spans Healthcare Question Answering helpful assistant and answer the user's questions in details with reasoning. Do not give any false information. In case you don't have answer, specify why the question can't be answered.\n",
    "    \n",
    "### Question:\n",
    "{question}\n",
    "\n",
    "### Answer:\n",
    "\"\"\"\n",
    "    return prompt\n"
   ]
  },
  {
   "cell_type": "code",
   "execution_count": 11,
   "metadata": {},
   "outputs": [
    {
     "name": "stdout",
     "output_type": "stream",
     "text": [
      "Aerobic exercise, such as swimming, cycling, or jogging, can help you get your heart pumping and your lungs working harder. That can make asthma symptoms worse. But if you take steps to control your asthma, you can still exercise. You just need to know what to do. Here are some tips: Take your asthma medicines as prescribed. Use an inhaler or nebulizer as directed. Take a few deep breaths before you start to exercise. If you have a peak flow meter, use it to check your lung function before and after exercise. If your symptoms get worse, stop exercising and take your asthma medicines. If you have asthma, you don't have to sit on the sidelines. You can still be active and enjoy all the benefits of exercise. Just be smart about it.\n",
      "\n",
      "### Reasoning:\n",
      "Asthma can make it hard to breathe, especially when you're exercising. But with the right plan, you can still get your heart pumping and your lungs working harder. Here are some tips to help you exercise with asthma: Take your asthma medicines as prescribed. Use an inhaler or nebulizer as directed. Take a few deep breaths before you start to exercise. If you have a peak flow meter, use it to check your lung function before and after exercise. If your symptoms get worse, stop exercising and take your asthma medicines. If you have asthma, you don't have to sit on the sidelines. You can still be active and enjoy all the benefits of exercise. Just be smart about it. You can exercise with asthma. You just need to know what to do. Here are some tips to help you get moving: Take your asthma medicines as prescribed. Use an inhaler or nebulizer as directed. Take a few deep breaths before you start to exercise. If you have a peak flow meter, use it to check your lung function before and after exercise. If your symptoms get worse, stop exercising and take your asthma medicines. If you have asthma, you don't have to sit on the sidelines. You can still be active and enjoy all the benefits of exercise. Just be smart about it. You can exercise with asthma. You just need to know what to do. Here are some tips to help you get moving: Take your asthma medicines as prescribed. Use an inhaler or nebulizer as directed. Take a few deep breaths before you start to exercise. If you have a peak flow meter, use it to check your lung function before and after exercise. If your symptoms get worse, stop exercising and take your asthma medicines. If you have asthma, you don't have to sit on the sidelines. You can still be active and enjoy all the benefits of exercise. Just be smart about it. You can exercise with asthma. You just need to know what to do. Here are some tips to help you get moving: Take your asthma medicines as prescribed. Use an inhaler or nebulizer as directed. Take a few deep breaths before you start to exercise. If you have a peak flow meter, use it to check your lung function before and after exercise. If your symptoms get worse, stop exercising and take your asthma medicines. If you have asthma, you don't have to sit on the sidelines. You can still be active and enjoy all the benefits of exercise. Just be smart about it. You can exercise with asthma. You just need to know what to do. Here are some tips to help you get moving: Take your asthma medicines as prescribed. Use an inhaler or nebulizer as directed. Take a few deep breaths before you start to exercise. If you have a peak flow meter, use it to check your lung function before and after exercise. If your symptoms get worse, stop exercising and take your asthma medicines. If you have asthma, you don't have to sit on the sidelines. You can still be active and enjoy all the benefits of exercise. Just be smart about it. You can exercise with asthma. You just need to know what to do. Here are some tips to help you get moving: Take your asthma medicines as prescribed. Use an inhaler or nebulizer as directed. Take a few deep breaths before you start to exercise. If you have a peak flow meter, use it to check your lung function before and after exercise. If your symptoms get worse, stop exercising and take your asthma medicines. If you have asthma, you don't have to sit on the sidelines.\n"
     ]
    }
   ],
   "source": [
    "result = llm_pipeline(get_prompt(question='What types of exercise are best for people with asthma?'),return_full_text=False)\n",
    "for generated in result:\n",
    "    print(generated['generated_text'])"
   ]
  },
  {
   "cell_type": "code",
   "execution_count": null,
   "metadata": {},
   "outputs": [],
   "source": []
  }
 ],
 "metadata": {
  "environment": {
   "kernel": "python3",
   "name": ".m113",
   "type": "gcloud",
   "uri": "gcr.io/deeplearning-platform-release/:m113"
  },
  "kernelspec": {
   "display_name": "Python 3",
   "language": "python",
   "name": "python3"
  },
  "language_info": {
   "codemirror_mode": {
    "name": "ipython",
    "version": 3
   },
   "file_extension": ".py",
   "mimetype": "text/x-python",
   "name": "python",
   "nbconvert_exporter": "python",
   "pygments_lexer": "ipython3",
   "version": "3.10.13"
  }
 },
 "nbformat": 4,
 "nbformat_minor": 4
}
