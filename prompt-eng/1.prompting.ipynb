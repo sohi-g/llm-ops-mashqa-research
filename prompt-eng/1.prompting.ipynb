{
 "cells": [
  {
   "cell_type": "code",
   "execution_count": 1,
   "id": "c2d8e946-2e88-41d8-9de2-38d18cc50af5",
   "metadata": {
    "tags": []
   },
   "outputs": [
    {
     "data": {
      "application/vnd.jupyter.widget-view+json": {
       "model_id": "35e38953e4584c4ea9423997c9ccc313",
       "version_major": 2,
       "version_minor": 0
      },
      "text/plain": [
       "Loading checkpoint shards:   0%|          | 0/2 [00:00<?, ?it/s]"
      ]
     },
     "metadata": {},
     "output_type": "display_data"
    }
   ],
   "source": [
    "# Import required libraries\n",
    "import torch\n",
    "from langchain import HuggingFacePipeline\n",
    "from transformers import AutoModelForCausalLM, AutoTokenizer, GenerationConfig, pipeline\n",
    "\n",
    "# Define the pre-trained model to be used\n",
    "MODEL_NAME = \"mistralai/Mistral-7B-Instruct-v0.1\"\n",
    "\n",
    "# Initialize the tokenizer using the specified pre-trained model\n",
    "tokenizer = AutoTokenizer.from_pretrained(MODEL_NAME, use_fast=True)\n",
    "\n",
    "# Initialize a causal language model using the specified pre-trained model\n",
    "model = AutoModelForCausalLM.from_pretrained(\n",
    "    MODEL_NAME, torch_dtype=torch.float16, trust_remote_code=True, device_map=\"auto\"\n",
    ")\n",
    "\n",
    "# Set up configuration for text generation\n",
    "generation_config = GenerationConfig.from_pretrained(MODEL_NAME)\n",
    "generation_config.max_new_tokens = 512  # Set the maximum number of tokens to generate\n",
    "generation_config.temperature = 0.0001  # Set the randomness in sampling\n",
    "generation_config.top_p = 0.95  # Control diversity in generated text\n",
    "generation_config.do_sample = True  # Use sampling during text generation\n",
    "generation_config.repetition_penalty = 1.15  # Penalize repeated tokens\n",
    "\n",
    "# Create a text generation pipeline with specified model, tokenizer, and configuration\n",
    "text_pipeline = pipeline(\n",
    "    \"text-generation\",\n",
    "    model=model,\n",
    "    tokenizer=tokenizer,\n",
    "    return_full_text=True,\n",
    "    generation_config=generation_config,\n",
    ")\n",
    "\n",
    "# Initialize a custom pipeline possibly with additional model arguments\n",
    "# In this case, setting temperature to 0 for the text generation pipeline\n",
    "llm = HuggingFacePipeline(pipeline=text_pipeline, model_kwargs={\"temperature\": 0})\n"
   ]
  },
  {
   "cell_type": "code",
   "execution_count": 2,
   "id": "293c3874-0b21-435a-9df4-f0d6161fca86",
   "metadata": {
    "tags": []
   },
   "outputs": [
    {
     "name": "stderr",
     "output_type": "stream",
     "text": [
      "Setting `pad_token_id` to `eos_token_id`:2 for open-end generation.\n"
     ]
    },
    {
     "name": "stdout",
     "output_type": "stream",
     "text": [
      "CPU times: user 3.1 s, sys: 176 ms, total: 3.27 s\n",
      "Wall time: 3.28 s\n"
     ]
    }
   ],
   "source": [
    "# Check the prompting through sample\n",
    "%%time\n",
    "prompt = \"[INST] What is the capital of India? [/INST]\"\n",
    "sample = llm(prompt)\n"
   ]
  },
  {
   "cell_type": "code",
   "execution_count": 3,
   "id": "73b1d467-4bd2-4b9b-a23a-bc787ba1de5d",
   "metadata": {
    "tags": []
   },
   "outputs": [
    {
     "data": {
      "text/plain": [
       "' The capital city of India is New Delhi.'"
      ]
     },
     "execution_count": 3,
     "metadata": {},
     "output_type": "execute_result"
    }
   ],
   "source": [
    "sample"
   ]
  },
  {
   "cell_type": "code",
   "execution_count": 4,
   "id": "ff6f0fd0-0fe3-4202-ae8d-6cc6050a1326",
   "metadata": {
    "tags": []
   },
   "outputs": [],
   "source": [
    "def extract_data(data):\n",
    "    # Initialize empty lists to store extracted data\n",
    "    contexts = []     # Store contexts from paragraphs\n",
    "    questions = []    # Store questions from Q&A pairs\n",
    "    answers = []  # Store lists of answers corresponding to questions\n",
    "    ids = []        # Store IDs of questions\n",
    "    \n",
    "    # Loop through the provided data\n",
    "    for row in data:\n",
    "        # Extract paragraphs within the data\n",
    "        for paragraph in row['paragraphs']:\n",
    "            # Extract Q&A pairs within each paragraph\n",
    "            for qas in paragraph['qas']:\n",
    "                # Store context for each Q&A pair\n",
    "                contexts.append(paragraph['context'])\n",
    "                \n",
    "                # Store the question itself\n",
    "                questions.append(qas['question'])\n",
    "                \n",
    "                # Store all answers related to the question\n",
    "                answer_texts = []\n",
    "                for answer in qas['answers']:\n",
    "                    answer_texts.append(answer['text'])\n",
    "                answers.append(answer_texts)\n",
    "                \n",
    "                # Store the ID of the question\n",
    "                ids.append(qas['id'])\n",
    "    \n",
    "    # Return the extracted data\n",
    "    return contexts, questions, answers, ids\n"
   ]
  },
  {
   "cell_type": "code",
   "execution_count": 5,
   "id": "fd077e0f-e0b8-4eca-84a6-c2d856717f07",
   "metadata": {
    "tags": []
   },
   "outputs": [],
   "source": [
    "path = \"data/train_webmd_squad_v2_full.json\"\n",
    "def load_data(path):\n",
    "    # Load JSON data from the given path\n",
    "    obj = json.load(open(path))\n",
    "    \n",
    "    # Extract the 'data' field from the loaded JSON object\n",
    "    obj = obj['data']\n",
    "    \n",
    "    # Process the extracted data to get context, question, answers, and IDs\n",
    "    context, question, answers, ids = extract_data(obj)\n",
    "    \n",
    "    # Create a Dataset object using the processed data\n",
    "    data = Dataset.from_dict({\n",
    "        'context': context,\n",
    "        'question': question,\n",
    "        'answer': answers,\n",
    "        'id': ids\n",
    "    })\n",
    "    \n",
    "    # Return the constructed Dataset object\n",
    "    return data\n"
   ]
  },
  {
   "cell_type": "code",
   "execution_count": 6,
   "id": "83e41d88-ce86-4b1b-8c9c-100ae656cb21",
   "metadata": {
    "tags": []
   },
   "outputs": [],
   "source": [
    "from datasets import Dataset\n",
    "import json\n",
    "\n",
    "# Load the data\n",
    "health_data = load_data(path)\n"
   ]
  },
  {
   "cell_type": "code",
   "execution_count": 7,
   "id": "1de7498d-a07f-4c16-bc0e-636e871dd12a",
   "metadata": {
    "tags": []
   },
   "outputs": [
    {
     "data": {
      "text/plain": [
       "\"Migraine with brainstem aura or MBA (formerly known as basilar migraines) are headaches that start in the lower part of the brain, called the brainstem. They cause symptoms such as dizziness, double vision, and lack of coordination. These changes, called an aura, can happen about 10 minutes to 45 minutes before your head hurts. The headache pain of a basilar migraine often starts on one side of the head and then gradually spreads and gets stronger. This type of migraine can last anywhere from 4 to 72 hours. And it takes time to recover from one. You may feel drained for up to 24 hours after it's over. Migraines with brainstem aura are known by several different names: Basilar migraine Basilar artery migraine Basilar-type migraine Bickerstaff's syndrome Brainstem migraine Vertebrobasilar migraine MBA can affect people of all ages. Generally, though, they start in childhood or the teen years. Women are slightly more likely to have them than men. Triggers may include: Alcohol Stress Lack of sleep Some medications Hunger Female hormone changes Bright lights Caffeine Nitrites in some foods, like sandwich meat, bacon, and processed foods Overdoing physical activity Weather or altitude Symptoms differ for everyone, but some are typical: Nausea Vomiting Sensitivity to light and sound Cold hands or feet Dizziness Double vision or graying of vision Slurred speech or trouble speaking Temporary blindness Loss of balance Confusion Trouble hearing Body tingling Loss of consciousness Aura symptoms may last between 5 minutes and 1 hour. When the headache starts, you might feel an intense throbbing or pulsating pain on one or both sides of your head or sometimes at the back of your head. After you've had at least two attacks of at least two auras, your doctor often make the diagnosis of migraine with brainstem aura. The condition has many of the same symptoms as another type, called hemiplegic migraine. But the hemiplegic kind usually causes weakness of one side of the body or trouble speaking. Symptoms of MBA can also seem like the signs of other more serious conditions, like seizure disorders, stroke, meningitis, or brain tumors. To rule those out, you'll need to see a brain doctor, called a neurologist. He'll give you a thorough exam and ask you questions about your symptoms. He'll may also use tests like MRI, CT scans, and nerve tests to see what's causing your symptoms. Treatments for MBA generally aim to relieve symptoms of pain and nausea. You might take pain relievers such as acetaminophen, ibuprofen, and naproxen, as well as nausea medicines such as chlorpromazine, metoclopramide, and prochlorperazine. Your doctor may prescribe a medication that treats regular migraines, such as triptans. To keep from getting a MBA, it helps to avoid the things that usually cause one. Keep a journal of your attacks so you can figure out the things that trigger them. It also helps to live a healthy lifestyle. That means you need to: Get enough sleep. Limit your stress. Exercise daily. Diet can also affect migraines. Do these things: Eat a balanced diet. Avoid drugs and alcohol. Don't skip meals. Limit caffeine. Avoid any foods that have been triggers. Some common food triggers include: Dairy Wheat Chocolate Eggs Rye Tomatoes Oranges Along with these changes, If you don't respond to other treatments and you have 4 or more migraine days a month, your doctor may suggest preventive medicines. You can take these regularly to reduce the severity or frequency of the headaches. These include seizure medicines, blood pressure medicines (like beta blockers and calcium channel blockers), and some antidepressants. CGRP inhibitors are a new class of preventive medicine that your doctor may recommend if other medicines don't help.\""
      ]
     },
     "execution_count": 7,
     "metadata": {},
     "output_type": "execute_result"
    }
   ],
   "source": [
    "health_data['context'][18]"
   ]
  },
  {
   "cell_type": "code",
   "execution_count": 8,
   "id": "96958bdb-83e6-40aa-b3ab-599020bee1ec",
   "metadata": {
    "tags": []
   },
   "outputs": [
    {
     "data": {
      "text/plain": [
       "'Can migraine with brainstem aura be prevented?'"
      ]
     },
     "execution_count": 8,
     "metadata": {},
     "output_type": "execute_result"
    }
   ],
   "source": [
    "health_data['question'][18]"
   ]
  },
  {
   "cell_type": "code",
   "execution_count": 9,
   "id": "2eb83f91-2e28-46fe-8d04-9777054001ce",
   "metadata": {
    "tags": []
   },
   "outputs": [
    {
     "data": {
      "text/plain": [
       "['To keep from getting a MBA, it helps to avoid the things that usually cause one. Keep a journal of your attacks so you can figure out the things that trigger them. It also helps to live a healthy lifestyle. That means you need to: Get enough sleep.']"
      ]
     },
     "execution_count": 9,
     "metadata": {},
     "output_type": "execute_result"
    }
   ],
   "source": [
    "health_data['answer'][18]"
   ]
  },
  {
   "cell_type": "markdown",
   "id": "9b9f7bec-7762-4c03-80df-547c1ca93b6e",
   "metadata": {},
   "source": [
    "## A. ZERO SHOT"
   ]
  },
  {
   "cell_type": "code",
   "execution_count": 10,
   "id": "735febb1-5847-45c2-8e85-0196f6cbf432",
   "metadata": {},
   "outputs": [],
   "source": [
    "from langchain import PromptTemplate\n",
    "\n",
    "template = \"\"\"\n",
    "[INST] <>\n",
    "Act as a helpful assistant and answer the user's questions. Do not give any false information. In case you don't have answer, specify why the question can't be answered.\n",
    "<>\n",
    "\n",
    "{question} [/INST]\n",
    "\"\"\"\n",
    "\n",
    "prompt = PromptTemplate(\n",
    "    input_variables=[\"question\"],\n",
    "    template=template,\n",
    ")\n",
    "     "
   ]
  },
  {
   "cell_type": "code",
   "execution_count": 11,
   "id": "7c6e07c6-9590-4c20-a1ce-0c2ce7caba28",
   "metadata": {
    "tags": []
   },
   "outputs": [
    {
     "name": "stderr",
     "output_type": "stream",
     "text": [
      "Setting `pad_token_id` to `eos_token_id`:2 for open-end generation.\n"
     ]
    },
    {
     "name": "stdout",
     "output_type": "stream",
     "text": [
      "There are several types of exercises that can be beneficial for people with asthma. Low-impact activities such as swimming, cycling, or walking can help improve cardiovascular fitness without triggering an asthma attack. Yoga and tai chi may also be helpful in improving flexibility and reducing stress levels. It is important to consult with a healthcare provider before starting any new exercise routine, especially if you have asthma, to ensure that it is safe and appropriate for your individual needs.\n",
      "CPU times: user 6.67 s, sys: 2.56 ms, total: 6.67 s\n",
      "Wall time: 6.67 s\n"
     ]
    }
   ],
   "source": [
    "%%time\n",
    "\n",
    "question = \"What types of exercise are best for people with asthma?\"\n",
    "\n",
    "result = llm(prompt.format(question=question))\n",
    "print(result)"
   ]
  },
  {
   "cell_type": "code",
   "execution_count": 12,
   "id": "592587c7-92f7-4f1e-94c4-9030535076e6",
   "metadata": {
    "tags": []
   },
   "outputs": [
    {
     "name": "stderr",
     "output_type": "stream",
     "text": [
      "Setting `pad_token_id` to `eos_token_id`:2 for open-end generation.\n"
     ]
    },
    {
     "name": "stdout",
     "output_type": "stream",
     "text": [
      "Obsessive-compulsive disorder (OCD) is typically diagnosed through a combination of self-reporting symptoms, clinical interview, and sometimes psychological testing. During the diagnostic process, healthcare providers will assess the severity and duration of symptoms, as well as their impact on daily life. They may also rule out other conditions that might present with similar symptoms. While there isn't a specific test to diagnose OCD, it's important to note that a proper diagnosis can help individuals receive appropriate treatment and support.\n"
     ]
    }
   ],
   "source": [
    "question = \" How is obsessive-compulsive disorder diagnosed? \"\n",
    "\n",
    "result = llm(prompt.format(question=question))\n",
    "print(result)"
   ]
  },
  {
   "cell_type": "code",
   "execution_count": 13,
   "id": "0fb399c7-5bf6-4ace-9e75-6750d556172e",
   "metadata": {
    "tags": []
   },
   "outputs": [
    {
     "name": "stderr",
     "output_type": "stream",
     "text": [
      "Setting `pad_token_id` to `eos_token_id`:2 for open-end generation.\n"
     ]
    },
    {
     "name": "stdout",
     "output_type": "stream",
     "text": [
      "A blood clot is most likely to occur when there is a blockage in one of your arteries or veins. This can happen due to various reasons such as injury, infection, inflammation, or certain medical conditions like heart disease, diabetes, or cancer. It can also occur during surgery or after immobility for long periods of time. However, it's important to note that anyone can get a blood clot at any time, regardless of their age or health status. If you have concerns about your risk of getting a blood clot, it's best to consult with a healthcare professional.\n",
      "CPU times: user 8.22 s, sys: 6.97 ms, total: 8.23 s\n",
      "Wall time: 8.22 s\n"
     ]
    }
   ],
   "source": [
    "%%time\n",
    "question = \" When are you more likely to get a blood clot? \"\n",
    "\n",
    "result = llm(prompt.format(question=question))\n",
    "print(result)"
   ]
  },
  {
   "cell_type": "code",
   "execution_count": 14,
   "id": "624712ce-b306-4501-86e8-a7ce3fb85ce1",
   "metadata": {
    "tags": []
   },
   "outputs": [
    {
     "name": "stderr",
     "output_type": "stream",
     "text": [
      "Setting `pad_token_id` to `eos_token_id`:2 for open-end generation.\n"
     ]
    },
    {
     "name": "stdout",
     "output_type": "stream",
     "text": [
      "Lifting objects correctly is important for preventing back pain. Here are some tips on how to lift objects safely:\n",
      "\n",
      "1. Warm up before lifting: Before attempting to lift an object, do some light stretching or cardio exercise to warm up your muscles. This will help prevent injury and make it easier to lift the object.\n",
      "2. Bend at the knees: When lifting an object, bend at the knees rather than at the waist. This will help distribute the weight of the object evenly across your body and reduce strain on your back.\n",
      "3. Keep your back straight: As you lift the object, keep your back straight. Avoid arching your back or slouching.\n",
      "4. Use proper lifting techniques: Depending on the size and weight of the object, use the appropriate lifting technique. For example, if you need to lift something heavy, consider using a hand truck or dolly to move it.\n",
      "5. Take breaks: If you need to lift multiple objects, take breaks frequently to rest your back and avoid overexertion.\n",
      "6. Seek assistance: If you find that you are having difficulty lifting objects without experiencing back pain, seek assistance from someone else who can help with the task.\n",
      "\n",
      "It's also important to note that if you experience severe back pain after lifting an object, you should consult with a healthcare professional to determine the cause and develop a treatment plan.\n",
      "CPU times: user 18.9 s, sys: 2.57 ms, total: 18.9 s\n",
      "Wall time: 18.9 s\n"
     ]
    }
   ],
   "source": [
    "%%time\n",
    "question = \" How should you lift objects to prevent back pain? \"\n",
    "\n",
    "result = llm(prompt.format(question=question))\n",
    "print(result)"
   ]
  },
  {
   "cell_type": "code",
   "execution_count": 15,
   "id": "4da3cb92-ec7b-4688-993b-16a4b7539a3d",
   "metadata": {
    "tags": []
   },
   "outputs": [
    {
     "name": "stderr",
     "output_type": "stream",
     "text": [
      "Setting `pad_token_id` to `eos_token_id`:2 for open-end generation.\n"
     ]
    },
    {
     "name": "stdout",
     "output_type": "stream",
     "text": [
      "Antibiotics are powerful medications that can help fight bacterial infections. To use them safely and effectively, it is important to follow your doctor's instructions carefully. Here are some tips for being smart with antibiotics:\n",
      "\n",
      "1. Take the full course of treatment: Antibiotics work by killing bacteria over time. It is important to take the full course of treatment prescribed by your doctor to ensure that all the bacteria are killed and the infection is fully cleared.\n",
      "2. Don't skip doses: Skipping doses can allow the remaining bacteria to multiply and become resistant to the antibiotic, making it less effective.\n",
      "3. Take the medication at the right times: Antibiotics should be taken at specific times during the day to maximize their effectiveness. Follow your doctor's instructions on when to take the medication.\n",
      "4. Store the medication properly: Antibiotics should be stored in a cool, dry place away from direct sunlight. Keep them out of reach of children and pets.\n",
      "5. Avoid cross-contamination: Be careful when handling food and other items while taking antibiotics. Wash your hands frequently and avoid touching your mouth or nose.\n",
      "6. Report side effects: If you experience any side effects while taking antibiotics, such as nausea, vomiting, diarrhea, or dizziness, contact your doctor immediately. They may be able to adjust your dose or switch to a different medication.\n",
      "7. Finish the entire course of treatment: Even if you start to feel better before finishing the full course of treatment, it is important to complete the entire course to ensure that the infection is fully cleared.\n",
      "8. Don't share antibiotics: Sharing antibiotics with others can lead to the development of antibiotic-resistant bacteria. Only take antibiotics that have been prescribed to you by a healthcare professional.\n",
      "9. Practice good hygiene: Good hygiene practices, such as washing your hands regularly, covering your mouth and nose when coughing or sneezing, and avoiding close contact with sick people, can help prevent the spread of infections and reduce the need for antibiotics.\n",
      "CPU times: user 30.3 s, sys: 11 ms, total: 30.3 s\n",
      "Wall time: 30.3 s\n"
     ]
    }
   ],
   "source": [
    "%%time\n",
    "question = \" How can you be smart with antibiotics? \"\n",
    "\n",
    "result = llm(prompt.format(question=question))\n",
    "print(result)"
   ]
  },
  {
   "cell_type": "markdown",
   "id": "7db10e5d-b20e-4109-8ffb-866623f723a4",
   "metadata": {},
   "source": [
    "## B. FEW SHOT"
   ]
  },
  {
   "cell_type": "code",
   "execution_count": 16,
   "id": "21d1bd8f-bbf6-4c47-9e94-d430f9865ad4",
   "metadata": {
    "tags": []
   },
   "outputs": [],
   "source": [
    "from langchain.prompts.few_shot import FewShotPromptTemplate\n",
    "\n",
    "examples = [\n",
    "  {\n",
    "    \"context\": \"People with neutropenia have an unusually low number of cells called neutrophils. Neutrophils are cells in your immune system that attack bacteria and other organisms when they invade your body. Neutrophils are a type of white blood cell. Your bone marrow creates these cells. They then travel in your bloodstream and move to areas of infection where they ingest and then neutralize the offending bacteria. Neutropenia itself often doesn't cause symptoms. In some cases, people only learn they have neutropenia when they have a blood test for an unrelated reason. It is most commonly seen--and even expected--as a result of chemotherapy used to treat cancer. But some people may have other symptoms from infection or the underlying problem causing the neutropenia. Infections can occur as a complication of neutropenia. They occur most often in the mucous membranes, such as the inside of the mouth and the skin. These infections can appear as: Ulcers Abscesses (collections of pus) Rashes Wounds that take a long time to heal Fever is also a common symptom of infection. In a neutropenic fever, it is common not to identify the exact cause, which is often normal gut bacteria that has made its way into the blood from weakened barriers. Neutropenic fevers are usually treated with antibiotics, even if an infectious source can't be identified. This is important because the weakened immune system means patients can get very sick very quickly. The risk for serious infection generally increases as: Neutrophil count goes down Duration of severe neutropenia gets longer The causes of neutropenia include: Problem in the production of neutrophils in the bone marrow Destruction of neutrophils outside the bone marrow Infection Nutritional deficiency Causes of decreased production of neutrophils include: Being born with a problem with bone marrow production (congenital) Leukemia and other conditions that affect the bone marrow or lead to bone marrow failure Radiation Chemotherapy Infections that can cause neutropenia include: Tuberculosis Dengue fever Viral infections such as Epstein- Barr virus, cytomegalovirus, HIV, viral hepatitis Increased destruction of neutrophils can be due to the body's immune system targeting neutrophils for destruction. This may be related to having an autoimmune condition, such as: Crohn's disease Rheumatoid arthritis Lupus In some people, neutropenia can be caused by certain medications, such as: Antibiotics Blood pressure drugs Psychiatric drugs Epilepsy drugs When deciding on treatment, health care providers consider the cause and severity of the neutropenia. Mild cases may not need any treatment. Approaches for treating neutropenia include: Antibiotics for fever. In neutropenic fever, the assumption is made that there is an infection causing the fever even when the source can't be found. A treatment called granulocyte colony-stimulating factor ( G- CSF). This stimulates the bone marrow to produce more white blood cells. It is used for several types of neutropenia, including low white cell count from chemotherpay. This treatment can be lifesaving in these cases. Changing medications, if possible, in cases of drug-induced neutropenia Granulocyte (white blood cell) transfusion (very uncommon) Stem cell transplants may be useful in treating some types of severe neutropenia, including those caused by bone marrow problems. People with neutropenia often need to take special steps to prevent infections. These neutropenia precautions include: Good hygiene, including frequent hand washing and good dental care, such as regular tooth brushing and flossing Avoiding contact with sick people Always wearing shoes Cleaning cuts and scrapes, then covering them with a bandage Using an electric shaver rather than a razor Avoiding animal waste and, when possible, not changing infants' diapers Avoiding unpasteurized dairy foods; undercooked meat; and raw fruits, vegetables, grains, nuts, and honey Staying out of hot tubs, ponds, and rivers\"  ,\n",
    "    \"question\": \"What are some treatments for neutropenia?\",\n",
    "    \"answer\": \"Neutrophils are cells in your immune system that attack bacteria and other organisms when they invade your body. This may be related to having an autoimmune condition, such as: Crohn's disease Rheumatoid arthritis Lupus In some people, neutropenia can be caused by certain medications, such as: Antibiotics Blood pressure drugs Psychiatric drugs Epilepsy drugs When deciding on treatment, health care providers consider the cause and severity of the neutropenia. Approaches for treating neutropenia include: Antibiotics for fever. A treatment called granulocyte colony-stimulating factor ( G- CSF). This stimulates the bone marrow to produce more white blood cells. Changing medications, if possible, in cases of drug-induced neutropenia Granulocyte (white blood cell) transfusion (very uncommon) Stem cell transplants may be useful in treating some types of severe neutropenia, including those caused by bone marrow problems.\"\n",
    "  },\n",
    "  {\n",
    "    \"context\": \"Migraine with brainstem aura or MBA (formerly known as basilar migraines) are headaches that start in the lower part of the brain, called the brainstem. They cause symptoms such as dizziness, double vision, and lack of coordination. These changes, called an aura, can happen about 10 minutes to 45 minutes before your head hurts. The headache pain of a basilar migraine often starts on one side of the head and then gradually spreads and gets stronger. This type of migraine can last anywhere from 4 to 72 hours. And it takes time to recover from one. You may feel drained for up to 24 hours after it's over. Migraines with brainstem aura are known by several different names: Basilar migraine Basilar artery migraine Basilar-type migraine Bickerstaff's syndrome Brainstem migraine Vertebrobasilar migraine MBA can affect people of all ages. Generally, though, they start in childhood or the teen years. Women are slightly more likely to have them than men. Triggers may include: Alcohol Stress Lack of sleep Some medications Hunger Female hormone changes Bright lights Caffeine Nitrites in some foods, like sandwich meat, bacon, and processed foods Overdoing physical activity Weather or altitude Symptoms differ for everyone, but some are typical: Nausea Vomiting Sensitivity to light and sound Cold hands or feet Dizziness Double vision or graying of vision Slurred speech or trouble speaking Temporary blindness Loss of balance Confusion Trouble hearing Body tingling Loss of consciousness Aura symptoms may last between 5 minutes and 1 hour. When the headache starts, you might feel an intense throbbing or pulsating pain on one or both sides of your head or sometimes at the back of your head. After you've had at least two attacks of at least two auras, your doctor often make the diagnosis of migraine with brainstem aura. The condition has many of the same symptoms as another type, called hemiplegic migraine. But the hemiplegic kind usually causes weakness of one side of the body or trouble speaking. Symptoms of MBA can also seem like the signs of other more serious conditions, like seizure disorders, stroke, meningitis, or brain tumors. To rule those out, you'll need to see a brain doctor, called a neurologist. He'll give you a thorough exam and ask you questions about your symptoms. He'll may also use tests like MRI, CT scans, and nerve tests to see what's causing your symptoms. Treatments for MBA generally aim to relieve symptoms of pain and nausea. You might take pain relievers such as acetaminophen, ibuprofen, and naproxen, as well as nausea medicines such as chlorpromazine, metoclopramide, and prochlorperazine. Your doctor may prescribe a medication that treats regular migraines, such as triptans. To keep from getting a MBA, it helps to avoid the things that usually cause one. Keep a journal of your attacks so you can figure out the things that trigger them. It also helps to live a healthy lifestyle. That means you need to: Get enough sleep. Limit your stress. Exercise daily. Diet can also affect migraines. Do these things: Eat a balanced diet. Avoid drugs and alcohol. Don't skip meals. Limit caffeine. Avoid any foods that have been triggers. Some common food triggers include: Dairy Wheat Chocolate Eggs Rye Tomatoes Oranges Along with these changes, If you don't respond to other treatments and you have 4 or more migraine days a month, your doctor may suggest preventive medicines. You can take these regularly to reduce the severity or frequency of the headaches. These include seizure medicines, blood pressure medicines (like beta blockers and calcium channel blockers), and some antidepressants. CGRP inhibitors are a new class of preventive medicine that your doctor may recommend if other medicines don't help.\", \n",
    "    \"question\": \"What are the symptoms of a migraine with brainstem aura?\",\n",
    "    \"answer\": \"Triggers may include: Alcohol Stress Lack of sleep Some medications Hunger Female hormone changes Bright lights Caffeine Nitrites in some foods, like sandwich meat, bacon, and processed foods Overdoing physical activity Weather or altitude Symptoms differ for everyone, but some are typical: Nausea Vomiting Sensitivity to light and sound Cold hands or feet Dizziness Double vision or graying of vision Slurred speech or trouble speaking Temporary blindness Loss of balance Confusion Trouble hearing Body tingling Loss of consciousness Aura symptoms may last between 5 minutes and 1 hour.\"\n",
    "  },\n",
    "  {\n",
    "    \"context\": \"Migraine with brainstem aura or MBA (formerly known as basilar migraines) are headaches that start in the lower part of the brain, called the brainstem. They cause symptoms such as dizziness, double vision, and lack of coordination. These changes, called an aura, can happen about 10 minutes to 45 minutes before your head hurts. The headache pain of a basilar migraine often starts on one side of the head and then gradually spreads and gets stronger. This type of migraine can last anywhere from 4 to 72 hours. And it takes time to recover from one. You may feel drained for up to 24 hours after it's over. Migraines with brainstem aura are known by several different names: Basilar migraine Basilar artery migraine Basilar-type migraine Bickerstaff's syndrome Brainstem migraine Vertebrobasilar migraine MBA can affect people of all ages. Generally, though, they start in childhood or the teen years. Women are slightly more likely to have them than men. Triggers may include: Alcohol Stress Lack of sleep Some medications Hunger Female hormone changes Bright lights Caffeine Nitrites in some foods, like sandwich meat, bacon, and processed foods Overdoing physical activity Weather or altitude Symptoms differ for everyone, but some are typical: Nausea Vomiting Sensitivity to light and sound Cold hands or feet Dizziness Double vision or graying of vision Slurred speech or trouble speaking Temporary blindness Loss of balance Confusion Trouble hearing Body tingling Loss of consciousness Aura symptoms may last between 5 minutes and 1 hour. When the headache starts, you might feel an intense throbbing or pulsating pain on one or both sides of your head or sometimes at the back of your head. After you've had at least two attacks of at least two auras, your doctor often make the diagnosis of migraine with brainstem aura. The condition has many of the same symptoms as another type, called hemiplegic migraine. But the hemiplegic kind usually causes weakness of one side of the body or trouble speaking. Symptoms of MBA can also seem like the signs of other more serious conditions, like seizure disorders, stroke, meningitis, or brain tumors. To rule those out, you'll need to see a brain doctor, called a neurologist. He'll give you a thorough exam and ask you questions about your symptoms. He'll may also use tests like MRI, CT scans, and nerve tests to see what's causing your symptoms. Treatments for MBA generally aim to relieve symptoms of pain and nausea. You might take pain relievers such as acetaminophen, ibuprofen, and naproxen, as well as nausea medicines such as chlorpromazine, metoclopramide, and prochlorperazine. Your doctor may prescribe a medication that treats regular migraines, such as triptans. To keep from getting a MBA, it helps to avoid the things that usually cause one. Keep a journal of your attacks so you can figure out the things that trigger them. It also helps to live a healthy lifestyle. That means you need to: Get enough sleep. Limit your stress. Exercise daily. Diet can also affect migraines. Do these things: Eat a balanced diet. Avoid drugs and alcohol. Don't skip meals. Limit caffeine. Avoid any foods that have been triggers. Some common food triggers include: Dairy Wheat Chocolate Eggs Rye Tomatoes Oranges Along with these changes, If you don't respond to other treatments and you have 4 or more migraine days a month, your doctor may suggest preventive medicines. You can take these regularly to reduce the severity or frequency of the headaches. These include seizure medicines, blood pressure medicines (like beta blockers and calcium channel blockers), and some antidepressants. CGRP inhibitors are a new class of preventive medicine that your doctor may recommend if other medicines don't help.\",\n",
    "    \"question\": \"Can migraine with brainstem aura be prevented?\",\n",
    "    \"answer\": \"To keep from getting a MBA, it helps to avoid the things that usually cause one. Keep a journal of your attacks so you can figure out the things that trigger them. It also helps to live a healthy lifestyle. That means you need to: Get enough sleep.\"\n",
    "  }\n",
    "]"
   ]
  },
  {
   "cell_type": "code",
   "execution_count": 17,
   "id": "f6cc3ec5-d39d-41d9-921c-116660c90b25",
   "metadata": {
    "tags": []
   },
   "outputs": [],
   "source": [
    "\n",
    "example_prompt = PromptTemplate(\n",
    "    input_variables=[\"context\", \"question\", \"answer\"],\n",
    "    template=\"Context: {context}\\nQuestion: {question}\\nAnswer: {answer}\"\n",
    ")\n"
   ]
  },
  {
   "cell_type": "code",
   "execution_count": 18,
   "id": "657c6603-0f76-4160-8902-331aa742b63a",
   "metadata": {
    "tags": []
   },
   "outputs": [],
   "source": [
    "\n",
    "prompt = FewShotPromptTemplate(\n",
    "    examples=examples,\n",
    "    example_prompt=example_prompt,\n",
    "    suffix=\"Question: {input}\",\n",
    "    input_variables=[\"input\"]\n",
    ")\n"
   ]
  },
  {
   "cell_type": "code",
   "execution_count": 19,
   "id": "bab71bb8-f358-4701-ac25-fded017b6f71",
   "metadata": {
    "tags": []
   },
   "outputs": [
    {
     "name": "stderr",
     "output_type": "stream",
     "text": [
      "Setting `pad_token_id` to `eos_token_id`:2 for open-end generation.\n"
     ]
    },
    {
     "name": "stdout",
     "output_type": "stream",
     "text": [
      "\n",
      "Answer: Asthma is a chronic lung condition that makes it difficult to breathe. Regular exercise can improve lung function and overall fitness, but it's important to choose activities that won't worsen asthma symptoms. Low-impact exercises, such as swimming, cycling, and walking, are generally recommended for people with asthma. Swimming is a great option because it's a low-impact aerobic exercise that can help improve cardiovascular fitness and lung function. Cycling is another low-impact exercise that can be done indoors or outdoors. Walking is also a low-impact exercise that can be done indoors or outdoors. It's important to talk to your doctor or an asthma specialist before starting any new exercise routine. They can help you determine the best type of exercise for your individual needs and provide guidance on how to manage asthma symptoms while exercising.\n",
      "CPU times: user 18.4 s, sys: 228 ms, total: 18.6 s\n",
      "Wall time: 18.6 s\n"
     ]
    }
   ],
   "source": [
    "%%time\n",
    "result = llm(prompt.format(input=\"What types of exercise are best for people with asthma?\"))\n",
    "print(result)"
   ]
  },
  {
   "cell_type": "code",
   "execution_count": 20,
   "id": "227d2a0a-5fe9-41fa-bf89-5aac57f4c39d",
   "metadata": {
    "tags": []
   },
   "outputs": [
    {
     "name": "stderr",
     "output_type": "stream",
     "text": [
      "Setting `pad_token_id` to `eos_token_id`:2 for open-end generation.\n"
     ]
    },
    {
     "name": "stdout",
     "output_type": "stream",
     "text": [
      "\n",
      "Answer: Obsessive-compulsive disorder (OCD) is a mental illness characterized by intrusive thoughts (obsessions) and repetitive behaviors (compulsions) that a person feels driven to perform. Diagnosing OCD typically involves a combination of self-report questionnaires, clinical interviews, and medical history.\n",
      "\n",
      "Self-report questionnaires are standardized forms that assess various aspects of psychological functioning. For example, the Yale-Brown Obsessive Compulsive Scale (YBOCS) is a widely used questionnaire designed specifically to measure the severity of OCD symptoms.\n",
      "\n",
      "Clinical interviews involve a face-to-face conversation with a mental health professional who asks specific questions about the individual's thoughts, feelings, and behaviors. During this interview, the clinician will try to understand the nature and extent of the individual's obsessions and compulsions, as well as how they impact their daily life.\n",
      "\n",
      "Medical history is also important in diagnosing OCD. The clinician will want to know about any previous psychiatric or medical conditions, family history of mental illness, and any substance abuse or addiction issues.\n",
      "\n",
      "In addition to these diagnostic tools, the clinician may also order laboratory tests to rule out any underlying medical conditions that could be contributing to the individual's symptoms. For example, thyroid function tests or a complete blood count (CBC) may be ordered to check for any abnormalities that could be causing anxiety or obsessional thinking.\n",
      "\n",
      "Once the clinician has gathered all of the necessary information, they will use their clinical judgment and expertise to determine whether the individual meets the criteria for a diagnosis of OCD. This typically involves reviewing the diagnostic criteria set forth in the fifth edition of the Diagnostic and Statistical Manual of Mental Disorders (DSM-5), which is the standard classification system used by mental health professionals to diagnose and treat mental illnesses.\n",
      "CPU times: user 35.8 s, sys: 248 ms, total: 36 s\n",
      "Wall time: 36 s\n"
     ]
    }
   ],
   "source": [
    "%%time\n",
    "result = llm(prompt.format(input=\"How is obsessive-compulsive disorder diagnosed?\"))\n",
    "print(result)"
   ]
  },
  {
   "cell_type": "code",
   "execution_count": 21,
   "id": "6c764881-6320-440e-8389-2c3e403c79e8",
   "metadata": {
    "tags": []
   },
   "outputs": [
    {
     "name": "stderr",
     "output_type": "stream",
     "text": [
      "Setting `pad_token_id` to `eos_token_id`:2 for open-end generation.\n"
     ]
    },
    {
     "name": "stdout",
     "output_type": "stream",
     "text": [
      "\n",
      "Answer: Blood clots are more likely to form when blood flow is slowed or blocked. This can happen in several ways:\n",
      "\n",
      "* During pregnancy, especially in the third trimester, when blood vessels stretch and become less elastic.\n",
      "* After surgery, especially orthopedic surgery, when immobility can slow blood flow.\n",
      "* When taking certain medications, such as birth control pills, antiplatelet drugs, and corticosteroids.\n",
      "* When smoking, since nicotine constricts blood vessels and reduces blood flow.\n",
      "* When obese, since excess weight can put additional strain on blood vessels and increase the risk of clots.\n",
      "* When sedentary, since lack of exercise can slow blood flow and increase the risk of clots.\n",
      "* When experiencing trauma, such as a car accident or sports injury, which can damage blood vessels and increase the risk of clots.\n",
      "* When traveling long distances, especially by air, where the reduced oxygen levels and dehydration can increase the risk of clots.\n",
      "* When consuming alcohol, since it can thin the blood and increase the risk of bleeding.\n",
      "* When consuming high-fat or high-carbohydrate diets, which can increase the risk of clots.\n",
      "* When consuming certain foods, such as red meat, organ meats, and shellfish, which contain high levels of saturated fats and can increase the risk of clots.\n",
      "CPU times: user 27.3 s, sys: 230 ms, total: 27.6 s\n",
      "Wall time: 27.5 s\n"
     ]
    }
   ],
   "source": [
    "%%time\n",
    "result = llm(prompt.format(input=\"When are you more likely to get a blood clot?\"))\n",
    "print(result)"
   ]
  },
  {
   "cell_type": "code",
   "execution_count": 22,
   "id": "5af6f6ed-aaba-4bd8-b031-1968df54ec93",
   "metadata": {
    "tags": []
   },
   "outputs": [
    {
     "name": "stderr",
     "output_type": "stream",
     "text": [
      "Setting `pad_token_id` to `eos_token_id`:2 for open-end generation.\n"
     ]
    },
    {
     "name": "stdout",
     "output_type": "stream",
     "text": [
      "\n",
      "Answer: Here are some tips to help you lift objects safely and prevent back pain:\n",
      "\n",
      "1. Plan ahead: Before lifting, assess the weight and size of the object, and determine how you will lift it.\n",
      "2. Use proper lifting techniques: Bend your knees and hips, keep your back straight, and lift with your legs, not your back.\n",
      "3. Hold the object close to your body: Keep the object as close to your body as possible to reduce strain on your back muscles.\n",
      "4. Take breaks: If you need to lift a heavy object, take breaks frequently to rest and stretch your back.\n",
      "5. Use assistive devices: Consider using tools such as dollies, carts, or straps to help lift heavy objects.\n",
      "6. Practice good posture: Stand tall with your shoulders back and your chin up to maintain good posture while lifting.\n",
      "7. Maintain a healthy weight: Carrying excess weight can put additional strain on your back muscles, leading to pain and discomfort.\n",
      "8. Exercise regularly: Regular exercise can strengthen your back muscles and improve flexibility, reducing the risk of injury.\n",
      "9. Seek professional advice: If you experience persistent back pain or difficulty lifting objects, seek advice from a healthcare provider or physical therapist.\n",
      "CPU times: user 23.9 s, sys: 243 ms, total: 24.1 s\n",
      "Wall time: 24.1 s\n"
     ]
    }
   ],
   "source": [
    "%%time\n",
    "result = llm(prompt.format(input=\"How should you lift objects to prevent back pain?\"))\n",
    "print(result)"
   ]
  },
  {
   "cell_type": "code",
   "execution_count": 23,
   "id": "732d2df7-bf6b-427b-9536-ff51bbb0635f",
   "metadata": {
    "tags": []
   },
   "outputs": [
    {
     "name": "stderr",
     "output_type": "stream",
     "text": [
      "/opt/conda/lib/python3.10/site-packages/transformers/pipelines/base.py:1101: UserWarning: You seem to be using the pipelines sequentially on GPU. In order to maximize efficiency please use a dataset\n",
      "  warnings.warn(\n",
      "Setting `pad_token_id` to `eos_token_id`:2 for open-end generation.\n"
     ]
    },
    {
     "name": "stdout",
     "output_type": "stream",
     "text": [
      "\n",
      "Answer: Antibiotics are powerful tools that can save lives. However, they should be used wisely to ensure their effectiveness and minimize potential harm. Here are some ways to be smart with antibiotics:\n",
      "\n",
      "1. Take antibiotics exactly as directed by your healthcare provider. Follow the dosage instructions carefully and complete the full course of treatment.\n",
      "2. Use antibiotics only when necessary. Antibiotics should be reserved for situations where other treatments are not effective or safe.\n",
      "3. Preserve the effectiveness of antibiotics by completing the full course of treatment. Taking only a partial course of antibiotics can contribute to the development of antibiotic-resistant bacteria.\n",
      "4. Practice good hygiene to prevent the spread of germs. Wash your hands frequently, cover your mouth and nose when coughing or sneezing, and clean surfaces regularly.\n",
      "5. Be cautious when using antibiotics to treat minor illnesses. Antibiotics should only be used to treat bacterial infections, not viral infections.\n",
      "6. Dispose of unused antibiotics properly. Flush unused antibiotics down the toilet or return them to your pharmacy.\n",
      "7. Educate yourself about antibiotics and how they work. Understanding the risks and benefits of antibiotics can help you make informed decisions about their use.\n",
      "8. Support research efforts to develop new antibiotics and improve existing ones. New antibiotics are needed to combat antibiotic-resistant bacteria.\n",
      "9. Advocate for responsible antibiotic use in your community. Encourage others to follow best practices and support policies that promote responsible antibiotic use.\n",
      "CPU times: user 31.1 s, sys: 242 ms, total: 31.4 s\n",
      "Wall time: 31.4 s\n"
     ]
    }
   ],
   "source": [
    "%%time\n",
    "result = llm(prompt.format(input=\"How can you be smart with antibiotics?\"))\n",
    "print(result)"
   ]
  },
  {
   "cell_type": "markdown",
   "id": "823105f1-c541-49a5-9716-63415c660603",
   "metadata": {},
   "source": [
    "## C. CHAIN OF THOUGHTS"
   ]
  },
  {
   "cell_type": "code",
   "execution_count": 24,
   "id": "a916fa38-df5f-40d9-9c92-64ea5905b352",
   "metadata": {
    "tags": []
   },
   "outputs": [
    {
     "name": "stderr",
     "output_type": "stream",
     "text": [
      "/opt/conda/lib/python3.10/site-packages/transformers/pipelines/base.py:1101: UserWarning: You seem to be using the pipelines sequentially on GPU. In order to maximize efficiency please use a dataset\n",
      "  warnings.warn(\n",
      "Setting `pad_token_id` to `eos_token_id`:2 for open-end generation.\n"
     ]
    },
    {
     "name": "stdout",
     "output_type": "stream",
     "text": [
      "There are several types of exercises that can be beneficial for people with asthma. However, it is important to note that everyone's body is different, so it is always best to consult with a healthcare professional before starting any new exercise routine. Here are some types of exercises that may be recommended for people with asthma:\n",
      "\n",
      "1. Low-impact aerobic exercises: These include activities such as swimming, cycling, or walking on flat surfaces. These exercises can help improve cardiovascular fitness without putting too much stress on the lungs.\n",
      "2. Resistance training: Strength training exercises can help build muscle mass and improve overall physical function. This type of exercise can also help reduce symptoms of asthma by improving lung capacity and reducing inflammation.\n",
      "3. Yoga and tai chi: These mind-body practices can help improve flexibility, balance, and strength while also promoting relaxation and reducing stress levels. They can also help improve breathing techniques, which can be particularly beneficial for people with asthma.\n",
      "4. Pilates: Pilates exercises focus on core strength and stability, and can help improve posture and balance. They can also be low impact and gentle on the joints, making them a good option for people with asthma.\n",
      "5. High-intensity interval training (HIIT): HIIT involves short bursts of intense exercise followed by periods of rest. While this type of exercise may not be suitable for everyone with asthma, it can be effective for those who can tolerate it. It can help improve cardiovascular fitness and burn calories quickly.\n",
      "\n",
      "It is important to remember that people with asthma should start any new exercise routine slowly and gradually increase intensity over time. Additionally, they should pay attention to their symptoms and stop exercising if they experience worsening symptoms.\n"
     ]
    }
   ],
   "source": [
    "from langchain.chains import LLMChain\n",
    "\n",
    "template = \"\"\"\n",
    "[INST] <>\n",
    "Act as a Multiple Answer Spans Healthcare Question Answering helpful assistant and answer the user's questions in details with reasoning. Do not give any false information. In case you don't have answer, specify why the question can't be answered.\n",
    "<>\n",
    "\n",
    "{question} [/INST]\n",
    "\"\"\"\n",
    "\n",
    "examples_prompt = PromptTemplate(\n",
    "    input_variables=[\"question\"],\n",
    "    template=template,\n",
    ")\n",
    "# Initialize LLMChain with the model and tokenizer\n",
    "llm_chain = LLMChain(llm=llm, prompt=examples_prompt)\n",
    "\n",
    "# Generate chain of thoughts using the provided prompt\n",
    "input_text = \"What types of exercise are best for people with asthma?\"\n",
    "chain_of_thoughts = llm_chain.run(input_text)\n",
    "\n",
    "print(chain_of_thoughts)"
   ]
  },
  {
   "cell_type": "code",
   "execution_count": 25,
   "id": "75afac6e-5a28-4de3-89ef-3284ba40932d",
   "metadata": {
    "tags": []
   },
   "outputs": [
    {
     "name": "stderr",
     "output_type": "stream",
     "text": [
      "/opt/conda/lib/python3.10/site-packages/transformers/pipelines/base.py:1101: UserWarning: You seem to be using the pipelines sequentially on GPU. In order to maximize efficiency please use a dataset\n",
      "  warnings.warn(\n",
      "Setting `pad_token_id` to `eos_token_id`:2 for open-end generation.\n"
     ]
    },
    {
     "name": "stdout",
     "output_type": "stream",
     "text": [
      "Obsessive-compulsive disorder (OCD) is typically diagnosed through a combination of self-reporting symptoms, clinical interview, and sometimes psychological testing. During the diagnostic process, healthcare providers will assess the severity and duration of the individual's symptoms, as well as their impact on daily life. They may also look for evidence of other mental health conditions that could be co-occurring with OCD.\n",
      "\n",
      "Self-reporting symptoms: The first step in diagnosing OCD is usually to ask the person about their symptoms. This involves asking them to describe their thoughts, feelings, and behaviors related to their obsessions and compulsions.\n",
      "\n",
      "Clinical interview: A clinical interview is a structured conversation between the patient and the healthcare provider during which they discuss the patient's symptoms in more detail. The interview helps the healthcare provider to identify patterns and triggers associated with the patient's obsessions and compulsions.\n",
      "\n",
      "Psychological testing: While not always necessary, psychological testing can provide additional information about an individual's symptoms and help to rule out other mental health conditions. Common tests used to diagnose OCD include the Yale-Brown Obsessive Compulsive Scale (YBOCS), the Behavioral and Cognitive Modification Scale (BCMS), and the Symptom Checklist-90 Revised (SCL-90).\n",
      "\n",
      "It's important to note that while these methods are commonly used to diagnose OCD, there is no one definitive way to do so. Diagnosis is often based on a combination of factors, including the patient's reported symptoms, medical history, and any relevant laboratory or imaging results. Additionally, it's possible for individuals with OCD to experience symptoms that overlap with those of other mental health conditions, making diagnosis challenging.\n"
     ]
    }
   ],
   "source": [
    "# Generate chain of thoughts using the provided prompt\n",
    "input_text = \"How is obsessive-compulsive disorder diagnosed?\"\n",
    "chain_of_thoughts = llm_chain.run(input_text)\n",
    "\n",
    "print(chain_of_thoughts)"
   ]
  },
  {
   "cell_type": "code",
   "execution_count": 26,
   "id": "5453aa47-ca15-4899-b50a-ec9a35361b9a",
   "metadata": {
    "tags": []
   },
   "outputs": [
    {
     "name": "stderr",
     "output_type": "stream",
     "text": [
      "/opt/conda/lib/python3.10/site-packages/transformers/pipelines/base.py:1101: UserWarning: You seem to be using the pipelines sequentially on GPU. In order to maximize efficiency please use a dataset\n",
      "  warnings.warn(\n",
      "Setting `pad_token_id` to `eos_token_id`:2 for open-end generation.\n"
     ]
    },
    {
     "name": "stdout",
     "output_type": "stream",
     "text": [
      "A blood clot is a blockage of blood flow that can occur in various parts of the body. There are several factors that can increase your risk of getting a blood clot:\n",
      "\n",
      "1. Age: The older you are, the higher your risk of developing a blood clot. This is because as we age, our blood vessels become stiffer and less flexible, making it harder for blood to flow smoothly.\n",
      "2. Family history: If someone in your family has had a blood clot, you may be at increased risk of developing one yourself.\n",
      "3. Medical conditions: Certain medical conditions, such as heart disease, stroke, diabetes, high blood pressure, and cancer, can increase your risk of getting a blood clot.\n",
      "4. Smoking: Smoking damages the lining of your arteries, which can make them more prone to forming blood clots.\n",
      "5. Obesity: Being overweight or obese can also increase your risk of developing a blood clot.\n",
      "6. Sedentary lifestyle: Leading a sedentary lifestyle, without regular physical activity, can also increase your risk of getting a blood clot.\n",
      "7. Surgery: Certain types of surgery, particularly those that involve major trauma to the body, can increase your risk of developing a blood clot.\n",
      "8. Medications: Some medications, such as birth control pills, hormone replacement therapy, and certain antidepressants, can increase your risk of getting a blood clot.\n",
      "9. Lifestyle habits: Poor diet, lack of sleep, and excessive alcohol consumption can also contribute to an increased risk of developing a blood clot.\n",
      "\n",
      "It's important to note that while these factors can increase your risk of getting a blood clot, they do not guarantee that you will develop one. It's always best to consult with a healthcare professional if you have concerns about your risk of developing a blood clot.\n"
     ]
    }
   ],
   "source": [
    "\n",
    "# Generate chain of thoughts using the provided prompt\n",
    "input_text = \"When are you more likely to get a blood clot?\"\n",
    "chain_of_thoughts = llm_chain.run(input_text)\n",
    "\n",
    "print(chain_of_thoughts)"
   ]
  },
  {
   "cell_type": "code",
   "execution_count": 27,
   "id": "e32a8d8f-5125-4958-b460-2bfdb55cbdf8",
   "metadata": {
    "tags": []
   },
   "outputs": [
    {
     "name": "stderr",
     "output_type": "stream",
     "text": [
      "/opt/conda/lib/python3.10/site-packages/transformers/pipelines/base.py:1101: UserWarning: You seem to be using the pipelines sequentially on GPU. In order to maximize efficiency please use a dataset\n",
      "  warnings.warn(\n",
      "Setting `pad_token_id` to `eos_token_id`:2 for open-end generation.\n"
     ]
    },
    {
     "name": "stdout",
     "output_type": "stream",
     "text": [
      "\n",
      "There are several ways to lift objects safely to prevent back pain:\n",
      "\n",
      "1. Bend your knees and hips instead of bending at the waist or back. This will help keep your spine straight and reduce strain on your lower back muscles.\n",
      "2. Keep your weight evenly distributed between both legs. Avoid lifting with one leg, as this puts extra stress on your back.\n",
      "3. Hold the object close to your body, as far away from your arms as possible. This reduces the amount of force needed to lift the object and helps keep your back straight.\n",
      "4. Use proper lifting techniques, such as squatting down and pushing up with your legs rather than straining your back.\n",
      "5. Take breaks if necessary, especially if you are lifting heavy objects. Resting for short periods of time can help prevent muscle fatigue and reduce the risk of injury.\n",
      "6. If you experience pain while lifting, seek medical attention immediately. It may be necessary to modify your lifting technique or seek physical therapy to address any underlying issues that may be causing the pain.\n"
     ]
    }
   ],
   "source": [
    "\n",
    "# Generate chain of thoughts using the provided prompt\n",
    "input_text = \"How should you lift objects to prevent back pain?\"\n",
    "chain_of_thoughts = llm_chain.run(input_text)\n",
    "\n",
    "print(chain_of_thoughts)"
   ]
  },
  {
   "cell_type": "code",
   "execution_count": 28,
   "id": "235b6ebc-1fae-4cba-9118-59f401532fd9",
   "metadata": {
    "tags": []
   },
   "outputs": [
    {
     "name": "stderr",
     "output_type": "stream",
     "text": [
      "/opt/conda/lib/python3.10/site-packages/transformers/pipelines/base.py:1101: UserWarning: You seem to be using the pipelines sequentially on GPU. In order to maximize efficiency please use a dataset\n",
      "  warnings.warn(\n",
      "Setting `pad_token_id` to `eos_token_id`:2 for open-end generation.\n"
     ]
    },
    {
     "name": "stdout",
     "output_type": "stream",
     "text": [
      "\n",
      "Antibiotics are powerful medications that can help fight bacterial infections. However, it is important to use them correctly to avoid resistance and other potential complications. Here are some ways to be smart with antibiotics:\n",
      "\n",
      "1. Follow your doctor's instructions carefully: Your doctor will prescribe the right type of antibiotic for your infection and tell you how long to take it. Make sure to follow their instructions exactly as they give them.\n",
      "2. Take all of the medication: It is important to complete the full course of antibiotics even if you start to feel better before finishing. This helps prevent bacteria from developing resistance to the antibiotic.\n",
      "3. Don't share your medication: Antibiotics should only be taken by the person who has been prescribed them. Sharing medication can lead to resistance and other complications.\n",
      "4. Avoid taking antibiotics unnecessarily: Antibiotics should only be used when necessary to treat an infection. Taking them unnecessarily can contribute to the development of antibiotic-resistant bacteria.\n",
      "5. Practice good hygiene: Good hygiene practices such as washing your hands regularly, covering your mouth and nose when coughing or sneezing, and avoiding close contact with sick people can help prevent the spread of infections.\n",
      "\n",
      "By following these tips, you can be smart with antibiotics and help ensure that they remain effective in treating bacterial infections.\n"
     ]
    }
   ],
   "source": [
    "# Generate chain of thoughts using the provided prompt\n",
    "input_text = \"How can you be smart with antibiotics?\"\n",
    "chain_of_thoughts = llm_chain.run(input_text)\n",
    "\n",
    "print(chain_of_thoughts)"
   ]
  },
  {
   "cell_type": "code",
   "execution_count": null,
   "id": "e8fbd9ff-f736-4539-8a57-6226629d7901",
   "metadata": {},
   "outputs": [],
   "source": []
  }
 ],
 "metadata": {
  "environment": {
   "kernel": "python3",
   "name": ".m113",
   "type": "gcloud",
   "uri": "gcr.io/deeplearning-platform-release/:m113"
  },
  "kernelspec": {
   "display_name": "Python 3",
   "language": "python",
   "name": "python3"
  },
  "language_info": {
   "codemirror_mode": {
    "name": "ipython",
    "version": 3
   },
   "file_extension": ".py",
   "mimetype": "text/x-python",
   "name": "python",
   "nbconvert_exporter": "python",
   "pygments_lexer": "ipython3",
   "version": "3.10.13"
  }
 },
 "nbformat": 4,
 "nbformat_minor": 5
}
