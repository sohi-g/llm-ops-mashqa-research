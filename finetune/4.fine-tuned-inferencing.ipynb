{
 "cells": [
  {
   "cell_type": "code",
   "execution_count": 1,
   "metadata": {
    "tags": []
   },
   "outputs": [],
   "source": [
    "import torch\n",
    "from datasets import Dataset\n",
    "\n",
    "from transformers import (\n",
    "    AutoModelForCausalLM,\n",
    "    AutoTokenizer,\n",
    "    BitsAndBytesConfig,\n",
    "    pipeline\n",
    ")\n"
   ]
  },
  {
   "cell_type": "code",
   "execution_count": 2,
   "metadata": {
    "tags": []
   },
   "outputs": [
    {
     "name": "stderr",
     "output_type": "stream",
     "text": [
      "Special tokens have been added in the vocabulary, make sure the associated word embeddings are fine-tuned or trained.\n"
     ]
    }
   ],
   "source": [
    "\n",
    "# + id=\"vIGZL2_exPHd\"\n",
    "model = \"mlops-ft\"\n",
    "\n",
    "# + id=\"HQK9XMtNDwtL\"\n",
    "# Create a tokenizer instance from the Hugging Face model specified by 'pretrained_model'\n",
    "tokenizer = AutoTokenizer.from_pretrained(\n",
    "    pretrained_model_name_or_path=model,  # Load the tokenizer for the chosen model\n",
    ")\n",
    "\n",
    "# Add a special token '[PAD]' to the tokenizer, which can be used for padding sequences\n",
    "tokenizer.add_special_tokens(special_tokens_dict={'pad_token': '[PAD]'})\n",
    "\n",
    "# Set the padding side to \"right\", which means padding will be added to the right side of sequences\n",
    "tokenizer.padding_side = \"right\"\n",
    "\n",
    "# -"
   ]
  },
  {
   "cell_type": "code",
   "execution_count": 3,
   "metadata": {
    "tags": []
   },
   "outputs": [],
   "source": [
    "bnb_config = BitsAndBytesConfig(\n",
    "    load_in_4bit=True,\n",
    "    bnb_4bit_use_double_quant=True,\n",
    "    bnb_4bit_quant_type=\"nf4\",\n",
    "    bnb_4bit_compute_dtype=torch.float16,\n",
    ")"
   ]
  },
  {
   "cell_type": "code",
   "execution_count": 4,
   "metadata": {
    "tags": []
   },
   "outputs": [
    {
     "data": {
      "application/vnd.jupyter.widget-view+json": {
       "model_id": "8f45f23100e743458b339d697a4f35d9",
       "version_major": 2,
       "version_minor": 0
      },
      "text/plain": [
       "Loading checkpoint shards:   0%|          | 0/2 [00:00<?, ?it/s]"
      ]
     },
     "metadata": {},
     "output_type": "display_data"
    }
   ],
   "source": [
    "# Load the model for Causal Language Modeling (CausalLM) from the specified Hugging Face model\n",
    "model = AutoModelForCausalLM.from_pretrained(\n",
    "    model,  # Load the model specified by the 'model' variable\n",
    "    load_in_4bit=True,  # Load the model using 4-bit quantization for memory efficiency\n",
    "    torch_dtype=torch.float16,  # Set the data type to 16-bit float for faster computations\n",
    "    device_map=\"cuda:0\",  # Use the GPU device 'cuda:0' for model inference\n",
    "    quantization_config = bnb_config,\n",
    ")"
   ]
  },
  {
   "cell_type": "code",
   "execution_count": 5,
   "metadata": {
    "tags": []
   },
   "outputs": [],
   "source": [
    "\n",
    "llm_pipeline = pipeline(\n",
    "    model=model,  # Specify the model for text generation\n",
    "    tokenizer=tokenizer,  # Specify the tokenizer for text processing\n",
    "    task='text-generation',  # Define the task as text generation\n",
    "    max_new_tokens=1024,  # Limit the maximum number of generated tokens to 256\n",
    "    temperature=0.1,  # Set the temperature parameter for text generation\n",
    "    top_k=10,  # Set the top-k parameter for text generation\n",
    "    do_sample=True,  # Allow sampling from the model's output\n",
    "    num_return_sequences=1,  # Return a single generated sequence\n",
    "    eos_token_id=tokenizer.eos_token_id,  # Specify the end-of-sequence token ID\n",
    "    pad_token_id=tokenizer.pad_token_id  # Specify the padding token ID\n",
    ")\n",
    "\n"
   ]
  },
  {
   "cell_type": "code",
   "execution_count": 6,
   "metadata": {
    "tags": []
   },
   "outputs": [],
   "source": [
    "\n",
    "def get_prompt(question):\n",
    "    prompt = f\"\"\"[INST]Act as a Multiple Answer Spans Healthcare Question Answering helpful assistant and answer the user's questions in details with reasoning. Do not give any false information. In case you don't have answer, specify why the question can't be answered.\n",
    "    \n",
    "### Question:\n",
    "{question}\n",
    "\n",
    "### Answer:\n",
    "\"\"\"\n",
    "    return prompt\n",
    "\n",
    "\n"
   ]
  },
  {
   "cell_type": "code",
   "execution_count": 29,
   "metadata": {},
   "outputs": [
    {
     "name": "stdout",
     "output_type": "stream",
     "text": [
      "Aerobic exercise, such as swimming or cycling, can help you breathe better and make you feel better overall. You may also want to try breathing exercises, such as pursed-lip breathing, to help you breathe more slowly and deeply. You can also use a breathing device called a peak flow meter to see how well you're breathing. If your asthma is well-controlled, you can do almost any type of exercise you want. But if your asthma is not well-controlled, you may need to avoid certain types of exercise. For example, if you have asthma that's triggered by cold air, you may want to avoid outdoor activities in the winter. If you have asthma that's triggered by dust, you may want to avoid activities that involve sweeping or vacuuming. If you have asthma that's triggered by strong smells, you may want to avoid activities that involve cleaning or cooking. If you have asthma that's triggered by exercise, you may want to avoid activities that involve running, jumping, or other high-intensity activities. Instead, you may want to try low-impact activities, such as walking, swimming, or cycling. You can also use a breathing device called a peak flow meter to see how well you're breathing. If your asthma is not well-controlled, you may want to avoid certain types of exercise. For example, if your asthma is triggered by cold air, you may want to avoid outdoor activities in the winter. If you have asthma that's triggered by dust, you may want to avoid activities that involve sweeping or vacuuming. If you have asthma that's triggered by strong smells, you may want to avoid activities that involve cleaning or cooking. If you have asthma that's triggered by exercise, you may want to avoid activities that involve running, jumping, or other high-intensity activities. Instead, you may want to try low-impact activities, such as walking, swimming, or cycling. You can also use a breathing device called a peak flow meter to see how well you're breathing.\n",
      "\n",
      "### Reasoning:\n",
      "Asthma can make it hard to breathe, and it can make you feel tired and out of breath. But exercise can help you breathe better and make you feel better overall. You may also want to try breathing exercises, such as pursed-lip breathing, to help you breathe more slowly and deeply. You can also use a breathing device called a peak flow meter to see how well you're breathing. If your asthma is well-controlled, you can do almost any type of exercise you want. But if your asthma is not well-controlled, you may need to avoid certain types of exercise. For example, if your asthma is triggered by cold air, you may want to avoid outdoor activities in the winter. If you have asthma that's triggered by dust, you may want to avoid activities that involve sweeping or vacuuming. If you have asthma that's triggered by strong smells, you may want to avoid activities that involve cleaning or cooking. If you have asthma that's triggered by exercise, you may want to avoid activities that involve running, jumping, or other high-intensity activities. Instead, you may want to try low-impact activities, such as walking, swimming, or cycling. You can also use a breathing device called a peak flow meter to see how well you're breathing. If your asthma is not well-controlled, you may want to avoid certain types of exercise. For example, if your asthma is triggered by cold air, you may want to avoid outdoor activities in the winter. If you have asthma that's triggered by dust, you may want to avoid activities that involve sweeping or vacuuming. If you have asthma that's triggered by strong smells, you may want to avoid activities that involve cleaning or cooking. If you have asthma that's triggered by exercise, you may want to avoid activities that involve running, jumping, or other high-intensity activities. Instead, you may want to try low-impact activities, such as walking, swimming, or cycling. You can also use a breathing device called a peak flow meter to see how well you're breathing.\n"
     ]
    }
   ],
   "source": [
    "result = llm_pipeline(get_prompt(question='What types of exercise are best for people with asthma?'),return_full_text=False)\n",
    "\n",
    "print(result[0]['generated_text'])\n"
   ]
  },
  {
   "cell_type": "code",
   "execution_count": 26,
   "metadata": {},
   "outputs": [
    {
     "name": "stdout",
     "output_type": "stream",
     "text": [
      "A doctor can diagnose OCD by asking about symptoms and ruling out other conditions. There are no lab tests for OCD.\n",
      "\n",
      "### Reasoning:\n",
      "The doctor will ask about symptoms and how they affect your life. He or she may ask about: Thoughts or worries about harm coming to yourself or others Behaviors that you repeat to \"make things right\" or to prevent bad things from happening Cleanliness or orderliness Compulsions to check things, such as whether you turned off the stove or locked the door Avoidance of certain situations or objects, such as flying or being in a crowded place Emotional distress or anxiety about having the thoughts or doing the behaviors You may also be asked to fill out a questionnaire about your symptoms. There are no lab tests for OCD. The doctor may also ask about any other mental health conditions, substance abuse, and family history of mental illness. OCD is often treated with therapy and medication.\n",
      "\n",
      "### Note:\n",
      "The information provided here is for educational purposes only and is not intended as a substitute for medical advice. Always consult with a doctor or other qualified health care professional about any medical concerns. Do not disregard or avoid professional medical advice due to content on this website.\n"
     ]
    }
   ],
   "source": [
    "# +\n",
    "result = llm_pipeline(get_prompt(question='How is obsessive-compulsive disorder diagnosed?'),return_full_text=False)\n",
    "\n",
    "print(result[0]['generated_text'])\n",
    "# -\n"
   ]
  },
  {
   "cell_type": "code",
   "execution_count": 40,
   "metadata": {},
   "outputs": [
    {
     "name": "stdout",
     "output_type": "stream",
     "text": [
      "You're more likely to get a blood clot if you have a family history of them. You're also more likely to get a blood clot if you're overweight or obese. You're more likely to get a blood clot if you smoke. You're more likely to get a blood clot if you have a heart problem or a problem with your lungs. You're more likely to get a blood clot if you have diabetes. You're more likely to get a blood clot if you have a problem with your kidneys. You're more likely to get a blood clot if you have a problem with your liver. You're more likely to get a blood clot if you have a problem with your pancreas. You're more likely to get a blood clot if you have a problem with your spleen. You're more likely to get a blood clot if you have a problem with your stomach. You're more likely to get a blood clot if you have a problem with your small intestine. You're more likely to get a blood clot if you have a problem with your large intestine. You're more likely to get a blood clot if you have a problem with your bladder. You're more likely to get a blood clot if you have a problem with your prostate. You're more likely to get a blood clot if you have a problem with your testicles. You're more likely to get a blood clot if you have a problem with your ovaries. You're more likely to get a blood clot if you have a problem with your uterus. You're more likely to get a blood clot if you have a problem with your fallopian tubes. You're more likely to get a blood clot if you have a problem with your ovarian cysts. You're more likely to get a blood clot if you have a problem with your endometriosis. You're more likely to get a blood clot if you have a problem with your varicose veins. You're more likely to get a blood clot if you have a problem with your\n"
     ]
    }
   ],
   "source": [
    "# +\n",
    "result = llm_pipeline(get_prompt(question='When are you more likely to get a blood clot?'),return_full_text=False)\n",
    "print(result[0]['generated_text'])\n",
    "# -\n"
   ]
  },
  {
   "cell_type": "code",
   "execution_count": 17,
   "metadata": {},
   "outputs": [
    {
     "name": "stdout",
     "output_type": "stream",
     "text": [
      "Lifting objects improperly is a common cause of back pain. Here are some tips on how to lift objects safely and prevent injury. 1. Warm up before lifting: Before you start lifting, do some light exercise or stretching to get your muscles ready for the task. 2. Get a firm grip: Hold the object as close to your body as possible with your palms facing the object. 3. Keep your body aligned: Stand with your feet shoulder-width apart and bend your knees slightly. Keep your back straight and your head up. 4. Lift slowly: Slowly lift the object straight up and over your head, keeping your arms close to your body. 5. Hold the object securely: Keep the object as close to your body as possible and avoid twisting your spine. 6. Take breaks: Don't lift objects that are too heavy for you. If you do, take frequent breaks and rest. 7. Keep your work area clean: Keep your work area clean and free of clutter. This will make it easier to lift objects and reduce the risk of injury. 8. Use proper lifting equipment: If you need to lift heavy objects, use proper lifting equipment such as a hand truck, dolly, or pallet jack. 9. Get help: Don't be afraid to ask for help. If you need it, ask a coworker or supervisor for assistance. 10. Seek medical attention: If you have back pain that doesn't go away, see a doctor. They may recommend physical therapy or other treatments to help you manage your pain.\n",
      "\n"
     ]
    }
   ],
   "source": [
    "# +\n",
    "result = llm_pipeline(get_prompt(question='How should you lift objects to prevent back pain?'),return_full_text=False)\n",
    "print(result[0]['generated_text'])\n",
    "# -"
   ]
  },
  {
   "cell_type": "code",
   "execution_count": 13,
   "metadata": {},
   "outputs": [
    {
     "name": "stdout",
     "output_type": "stream",
     "text": [
      "You can be smart with antibiotics by taking them as directed, finishing the full course, and not taking them for viral infections.\n",
      "\n",
      "### Reasoning:\n",
      "Antibiotics are powerful drugs that can fight off bacterial infections. But they don't work on viruses. If you take antibiotics for a viral infection, you're wasting your money and the drug. And if you stop taking antibiotics before the full course is done, the bacteria can come back and multiply. That's why it's important to follow your doctor's directions and take the full course of antibiotics. You should also take them as directed. That means taking the pills at the right times and in the right way. If you don't take them as directed, the bacteria may not die. And if you take too many antibiotics, the bacteria can become resistant to the drugs. That means they can fight off the antibiotics and come back to cause infections. So be smart with antibiotics. Take them as directed. Finish the full course. And don't take them for viral infections.\n",
      "\n",
      "### Note:\n",
      "This information is not meant to replace the advice of a healthcare professional. Do not use it to diagnose or treat any medical condition. Always consult with a doctor before making any changes to your treatment plan.\n"
     ]
    }
   ],
   "source": [
    "# +\n",
    "result = llm_pipeline(get_prompt(question='How can you be smart with antibiotics?'),return_full_text=False)\n",
    "\n",
    "print(result[0]['generated_text'])\n",
    "# -"
   ]
  }
 ],
 "metadata": {
  "environment": {
   "kernel": "python3",
   "name": "common-cu113.m112",
   "type": "gcloud",
   "uri": "gcr.io/deeplearning-platform-release/base-cu113:m112"
  },
  "kernelspec": {
   "display_name": "Python 3",
   "language": "python",
   "name": "python3"
  },
  "language_info": {
   "codemirror_mode": {
    "name": "ipython",
    "version": 3
   },
   "file_extension": ".py",
   "mimetype": "text/x-python",
   "name": "python",
   "nbconvert_exporter": "python",
   "pygments_lexer": "ipython3",
   "version": "3.10.12"
  }
 },
 "nbformat": 4,
 "nbformat_minor": 4
}
